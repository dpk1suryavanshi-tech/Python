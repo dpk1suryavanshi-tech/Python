{
  "nbformat": 4,
  "nbformat_minor": 0,
  "metadata": {
    "colab": {
      "provenance": []
    },
    "kernelspec": {
      "name": "python3",
      "display_name": "Python 3"
    },
    "language_info": {
      "name": "python"
    }
  },
  "cells": [
    {
      "cell_type": "markdown",
      "source": [
        "# **Python**\n"
      ],
      "metadata": {
        "id": "ZVFVFetHSP9b"
      }
    },
    {
      "cell_type": "code",
      "source": [],
      "metadata": {
        "id": "UPYANA7bSbhQ"
      },
      "execution_count": null,
      "outputs": []
    },
    {
      "cell_type": "markdown",
      "source": [
        "#1.What is Python, and why is it popular ?\n",
        "\n",
        "  -> Python is basically high level programming lanugage which is known for easy to use and readibility ,It is popular as it can be used in websites build, automate tasks , data analyse, software delevlopment and many more.\n",
        "\n",
        "#2. What is an interpreter in Python ?\n",
        "\n",
        "  -> An interpreter in Python is a program that directly executes code written in the Python programming language. Instead of compiling the entire source code into machine code before execution, the interpreter reads, translates, and executes the code line by line.\n",
        "\n",
        "#3. What are pre-defined keywords in Python.\n",
        "\n",
        "  ->Pre-defined keywords in Python which has some specific meaning and purpose which can not be used for anything else.\n",
        "\n",
        "#4.  Can keywords be used as variable name ?\n",
        "\n",
        " -> keywords cannot be used as variable names as Keywords are reserved words that have a special, predefined meaning within the language's syntax and are used for specific purposes, such as defining control flow, data types, or program structure.\n",
        "\n",
        "#5. What is mutability in Python ?\n",
        "\n",
        "- > An object is considered mutable if its state or value can be modified after it is created. This means that you can alter its internal data or attributes without creating a new object. Examples of mutable objects in Python include lists, dictionaries, and sets.\n",
        "\n",
        "#6. Why are lists mutable, but tuples are immutable ?\n",
        "\n",
        "-> Lists are mutable because their contents can be changed after creation (elements can be added, removed, or modified in place). Tuples, on the other hand, are immutable because once created, their elements cannot be changed.\n",
        "\n",
        "#7. What is the difference between “==” and “is” operators in Python\n",
        "\n",
        " -> The == operator checks if the values of two operands are equal, while the is operator checks if two operands refer to the same object in memory.\n",
        "\n",
        " #8.What are logical operators in Python ?\n",
        "\n",
        "-> Logical operators in Python are used to combine conditional statements.\n",
        " The main logical operators are:\n",
        "\n",
        "and: Returns True if both statements are true.\n",
        "or: Returns True if at least one of the statements is true.\n",
        "not: Reverses the result; returns False if the result is true.\n",
        "\n",
        "#9 What is type casting in Python\n",
        "\n",
        "the process of converting a value from one data type to anotheris known as type casting in python, This is often necessary when performing operations that require data of a specific type or when you need to represent data in a different format.\n",
        "\n",
        "\n",
        "#10 - What is the difference between implicit and explicit type casting?\n",
        "\n",
        "Implicit Type Casting (Coercion): This is done automatically by Python. When you perform operations involving different data types, Python may convert one of the types to a compatible type to avoid errors. For example, when you add an integer and a float, Python implicitly converts the integer to a float before performing the addition.\n",
        "\n",
        "Explicit Type Casting: This is done manually by the programmer using built-in functions like int(), float(), str(), etc. You explicitly tell Python to convert a value from one type to another. This is useful when you need a specific data type for an operation or when implicit conversion doesn't provide the desired result.\n",
        "\n",
        "#11 - What is the purpose of conditional statements in Python?\n",
        "\n",
        "Conditional statements in Python are used to execute different blocks of code based on whether a specified condition is true or false.\n",
        "\n",
        "The most common conditional statements in Python are if, elif (else if), and else.\n",
        "\n",
        "#12  How does the elif statement work ?\n",
        "\n",
        "-> The if statement is checked first. If its condition is True, the code block under the if is executed, and the rest of the elif and else blocks are skipped.\n",
        "If the if condition is False, Python then checks the first elif condition. If it's True, the code block under that elif is executed, and the remaining elif and else blocks are skipped.\n",
        "If the first elif condition is False, Python moves on to check the next elif condition, and so on.\n",
        "If all the if and elif conditions are False, the code block under the else statement (if present) is executed.\n",
        "\n",
        "#13 What is the difference between for and while loops ?\n",
        "\n",
        " -> for loop when you have a definite number of iterations or are iterating over a sequence, and use a while loop when you need to repeat an action based on a condition.\n",
        "\n",
        " #14 Describe a scenario where a while loop is more suitable than a for loop?\n",
        "\n",
        "\n",
        "\n",
        " -> A while loop is more suitable than a for loop when we don't know in advance how many times you need to repeat a block of code, and the repetition depends on a condition being met."
      ],
      "metadata": {
        "id": "mNt1sZRpSeEc"
      }
    },
    {
      "cell_type": "markdown",
      "source": [
        "**Practical Questions and Answers**"
      ],
      "metadata": {
        "id": "i5O__tPm4urk"
      }
    },
    {
      "cell_type": "code",
      "source": [
        "#1 Write a Python program to print \"Hello, World!\"\n",
        "\n",
        "print(\"Hello, World!\")"
      ],
      "metadata": {
        "colab": {
          "base_uri": "https://localhost:8080/"
        },
        "id": "ksNQj7dbcWbz",
        "outputId": "2aaa5536-5964-48a6-b270-d8790813365c"
      },
      "execution_count": null,
      "outputs": [
        {
          "output_type": "stream",
          "name": "stdout",
          "text": [
            "Hello, World!\n"
          ]
        }
      ]
    },
    {
      "cell_type": "code",
      "source": [
        "#2Write a Python program that displays your name and age\n",
        "\n",
        "Name  = \" Deepak\"\n",
        "age  = \"32\"\n",
        "print(f\"My Name is {Name} and i am {age} years old. \")"
      ],
      "metadata": {
        "colab": {
          "base_uri": "https://localhost:8080/"
        },
        "id": "ZP2yeyaPc28O",
        "outputId": "c2d42c3a-33a2-4580-bead-a1ed334aaae2"
      },
      "execution_count": null,
      "outputs": [
        {
          "output_type": "stream",
          "name": "stdout",
          "text": [
            "My Name is  Deepak and i am 32 years old. \n"
          ]
        }
      ]
    },
    {
      "cell_type": "code",
      "source": [
        "#3 Write code to print all the pre-defined keywords in Python using the keyword library\n",
        "import keyword\n",
        "\n",
        "keywords = keyword.kwlist\n",
        "print(keywords)"
      ],
      "metadata": {
        "colab": {
          "base_uri": "https://localhost:8080/"
        },
        "id": "T4A42v1ygCLA",
        "outputId": "06a0f7d7-40b6-4f66-a230-78672f0328f2"
      },
      "execution_count": null,
      "outputs": [
        {
          "output_type": "stream",
          "name": "stdout",
          "text": [
            "['False', 'None', 'True', 'and', 'as', 'assert', 'async', 'await', 'break', 'class', 'continue', 'def', 'del', 'elif', 'else', 'except', 'finally', 'for', 'from', 'global', 'if', 'import', 'in', 'is', 'lambda', 'nonlocal', 'not', 'or', 'pass', 'raise', 'return', 'try', 'while', 'with', 'yield']\n"
          ]
        }
      ]
    },
    {
      "cell_type": "code",
      "source": [],
      "metadata": {
        "id": "lC0N9ViT0kmw"
      },
      "execution_count": null,
      "outputs": []
    },
    {
      "cell_type": "code",
      "metadata": {
        "colab": {
          "base_uri": "https://localhost:8080/"
        },
        "id": "0b8e2244",
        "outputId": "51e9f3a5-16cb-4a88-9056-23230cd701d8"
      },
      "source": [
        "# 4Write a program that checks if a given word is a Python keyword.\n",
        "import keyword\n",
        "\n",
        "word = input(\"Enter a word to check: \")\n",
        "\n",
        "if keyword.iskeyword(word):\n",
        "  print(f\"{word} is a Python keyword.\")\n",
        "else:\n",
        "  print(f\"{word} is not a Python keyword.\")"
      ],
      "execution_count": null,
      "outputs": [
        {
          "output_type": "stream",
          "name": "stdout",
          "text": [
            "Enter a word to check: class\n",
            "class is a Python keyword.\n"
          ]
        }
      ]
    },
    {
      "cell_type": "code",
      "source": [
        "# Create a list and tuple in Python, and demonstrate how attempting to change an element works differently for each\n",
        "\n",
        "list_example = [1, 2, 3, 4, 5]\n",
        "tuple_example = (1, 2, 3, 4, 5)\n",
        "\n",
        "print(\"Original list:\", list_example)\n",
        "print(\"Original tuple:\", tuple_example)\n",
        "\n",
        "# Attempt to change an element in the list\n",
        "try:\n",
        "    list_example[0] = 10\n",
        "    print(\"List after changing element:\", list_example)\n",
        "except TypeError as e:\n",
        "    print(\"Error changing list element:\", e)\n",
        "\n",
        "# Attempt to change an element in the tuple\n",
        "try:\n",
        "    tuple_example[0] = 10\n",
        "    print(\"Tuple after changing element:\", tuple_example)\n",
        "except TypeError as e:\n",
        "    print(\"Error changing tuple element:\", e)"
      ],
      "metadata": {
        "id": "Nfk59-6U4F4c",
        "colab": {
          "base_uri": "https://localhost:8080/"
        },
        "outputId": "8cc4da7d-13aa-441e-9893-3e2cff643ea8"
      },
      "execution_count": null,
      "outputs": [
        {
          "output_type": "stream",
          "name": "stdout",
          "text": [
            "Original list: [1, 2, 3, 4, 5]\n",
            "Original tuple: (1, 2, 3, 4, 5)\n",
            "List after changing element: [10, 2, 3, 4, 5]\n",
            "Error changing tuple element: 'tuple' object does not support item assignment\n"
          ]
        }
      ]
    },
    {
      "cell_type": "code",
      "source": [
        "# 6. Write a function to demonstrate the behavior of mutable and immutable arguments.\n",
        "my_list = [1, 2, 3]\n",
        "\n",
        "print(\"Original list:\", my_list)\n",
        "\n",
        "# Modifying an element\n",
        "my_list[0] = 10\n",
        "print(\"Modified list (after changing first element):\", my_list)\n",
        "\n",
        "# Adding a new element\n",
        "my_list.append(4)\n",
        "print(\"Modified list (after appending 4):\", my_list)\n",
        "\n",
        "# Removing an element\n",
        "my_list.remove(2)\n",
        "print(\"Modified list (after removing 2):\", my_list)"
      ],
      "metadata": {
        "colab": {
          "base_uri": "https://localhost:8080/"
        },
        "id": "cN_U8_rm5eLM",
        "outputId": "da9c56df-c61a-439e-9cb8-343b931c3c0c"
      },
      "execution_count": null,
      "outputs": [
        {
          "output_type": "stream",
          "name": "stdout",
          "text": [
            "Original list: [1, 2, 3]\n",
            "Modified list (after changing first element): [10, 2, 3]\n",
            "Modified list (after appending 4): [10, 2, 3, 4]\n",
            "Modified list (after removing 2): [10, 3, 4]\n"
          ]
        }
      ]
    },
    {
      "cell_type": "code",
      "source": [
        "# 7 Write a program that performs basic arithmetic operations on two user-input numbers\n",
        "\n",
        "num1 = int(input('Enter First number: '))\n",
        "num2 = int(input('Enter Second number '))\n",
        "add = num1 + num2\n",
        "dif = num1 - num2\n",
        "mul = num1 * num2\n",
        "div = num1 / num2\n",
        "floor_div = num1 // num2\n",
        "power = num1 ** num2\n",
        "modulus = num1 % num2\n",
        "print('Sum of ',num1 ,'and' ,num2 ,'is :',add)\n",
        "print('Difference of ',num1 ,'and' ,num2 ,'is :',dif)\n",
        "print('Product of' ,num1 ,'and' ,num2 ,'is :',mul)\n",
        "print('Division of ',num1 ,'and' ,num2 ,'is :',div)\n",
        "print('Floor Division of ',num1 ,'and' ,num2 ,'is :',floor_div)\n",
        "print('Exponent of ',num1 ,'and' ,num2 ,'is :',power)\n",
        "print('Modulus of ',num1 ,'and' ,num2 ,'is :',modulus)"
      ],
      "metadata": {
        "colab": {
          "base_uri": "https://localhost:8080/"
        },
        "id": "yselEPIB6Fnh",
        "outputId": "830b7a46-d83c-4f7d-db45-f936975c3f84"
      },
      "execution_count": null,
      "outputs": [
        {
          "output_type": "stream",
          "name": "stdout",
          "text": [
            "Enter First number: 20\n",
            "Enter Second number 5\n",
            "Sum of  20 and 5 is : 25\n",
            "Difference of  20 and 5 is : 15\n",
            "Product of 20 and 5 is : 100\n",
            "Division of  20 and 5 is : 4.0\n",
            "Floor Division of  20 and 5 is : 4\n",
            "Exponent of  20 and 5 is : 3200000\n",
            "Modulus of  20 and 5 is : 0\n"
          ]
        }
      ]
    },
    {
      "cell_type": "code",
      "source": [
        "# 8  Write a program to demonstrate the use of logical operators\n",
        "\n",
        "# Example with 'and' operator\n",
        "x = 10\n",
        "y = 20\n",
        "print(f\"Is x > 5 and y < 25? {x > 5 and y < 25}\")\n",
        "print(f\"Is x > 15 and y < 25? {x > 15 and y < 25}\")\n",
        "\n",
        "# Example with 'or' operator\n",
        "a = True\n",
        "b = False\n",
        "print(f\"Is a or b? {a or b}\")\n",
        "print(f\"Is a or not a? {a or not a}\")\n",
        "\n",
        "# Example with 'not' operator\n",
        "is_sunny = False\n",
        "print(f\"Is it not sunny? {not is_sunny}\")\n",
        "\n",
        "# More complex example\n",
        "age = 25\n",
        "has_license = True\n",
        "\n",
        "if age >= 18 and has_license:\n",
        "  print(\"You are eligible to drive.\")\n",
        "else:\n",
        "  print(\"You are not eligible to drive.\")\n",
        "\n",
        "temperature = 30\n",
        "is_raining = False\n",
        "\n",
        "if temperature > 25 or is_raining:\n",
        "  print(\"It's either hot or raining.\")\n",
        "else:\n",
        "  print(\"It's not hot and not raining.\")"
      ],
      "metadata": {
        "colab": {
          "base_uri": "https://localhost:8080/"
        },
        "id": "mw9DUjPW6l_l",
        "outputId": "49c573ec-c5ae-45b9-9c35-7894779d63de"
      },
      "execution_count": null,
      "outputs": [
        {
          "output_type": "stream",
          "name": "stdout",
          "text": [
            "Is x > 5 and y < 25? True\n",
            "Is x > 15 and y < 25? False\n",
            "Is a or b? True\n",
            "Is a or not a? True\n",
            "Is it not sunny? True\n",
            "You are eligible to drive.\n",
            "It's either hot or raining.\n"
          ]
        }
      ]
    },
    {
      "cell_type": "code",
      "source": [
        "# 9Write a Python program to convert user input from string to integer, float, and boolean types.\n",
        "\n",
        "user_input = input(\"Enter a value: \")\n",
        "\n",
        "print(f\"Original input (string): {user_input}, Type: {type(user_input)}\")\n",
        "\n",
        "# Convert to integer\n",
        "try:\n",
        "    int_value = int(user_input)\n",
        "    print(f\"Converted to integer: {int_value}, Type: {type(int_value)}\")\n",
        "except ValueError:\n",
        "    print(f\"Could not convert '{user_input}' to an integer.\")\n",
        "\n",
        "# Convert to float\n",
        "try:\n",
        "    float_value = float(user_input)\n",
        "    print(f\"Converted to float: {float_value}, Type: {type(float_value)}\")\n",
        "except ValueError:\n",
        "    print(f\"Could not convert '{user_input}' to a float.\")\n",
        "\n",
        "bool_value = user_input.lower() == 'true'\n",
        "print(f\"Converted to boolean (assuming 'True' or 'False'): {bool_value}, Type: {type(bool_value)}\")"
      ],
      "metadata": {
        "colab": {
          "base_uri": "https://localhost:8080/"
        },
        "id": "S7uZ4bn37xxH",
        "outputId": "d52211ce-396d-43a4-d59c-cde3bf639fca"
      },
      "execution_count": null,
      "outputs": [
        {
          "output_type": "stream",
          "name": "stdout",
          "text": [
            "Enter a value: 10\n",
            "Original input (string): 10, Type: <class 'str'>\n",
            "Converted to integer: 10, Type: <class 'int'>\n",
            "Converted to float: 10.0, Type: <class 'float'>\n",
            "Converted to boolean (assuming 'True' or 'False'): False, Type: <class 'bool'>\n"
          ]
        }
      ]
    },
    {
      "cell_type": "code",
      "source": [
        "#10 Write code to demonstrate type casting with list elements.\n",
        "# character to integer conversion\n",
        "a = ord('A')\n",
        "print(a)\n",
        "\n",
        "# integer to character conversion\n",
        "ch = chr(65)\n",
        "print(ch)\n",
        "\n",
        "# Integers are multiplied and may lead to overflow\n",
        "x = 1000000\n",
        "y = 1000000\n",
        "z1 = x * y\n",
        "# Integer to Long conversion\n",
        "z2 = int(x) * y\n",
        "print(z1, z2)\n",
        "\n",
        "numerator = 15\n",
        "denominator = 10\n",
        "# Integers are divided so result is an integer\n",
        "quotient1 = numerator // denominator\n",
        "# Integer to float conversion\n",
        "quotient2 = float(numerator) / denominator\n",
        "print(quotient1, quotient2)"
      ],
      "metadata": {
        "colab": {
          "base_uri": "https://localhost:8080/"
        },
        "id": "eYOPngKq8zgD",
        "outputId": "d6d2f376-b7bf-4e6e-c17b-671e35c64c04"
      },
      "execution_count": null,
      "outputs": [
        {
          "output_type": "stream",
          "name": "stdout",
          "text": [
            "65\n",
            "A\n",
            "1000000000000 1000000000000\n",
            "1 1.5\n"
          ]
        }
      ]
    },
    {
      "cell_type": "code",
      "source": [
        "# 11 Write a program that checks if a number is positive, negative, or zero.\n",
        "\n",
        "try:\n",
        "  # Get user input and convert to a float to handle potential decimal numbers\n",
        "  num = float(input(\"Enter a number: \"))\n",
        "\n",
        "  # Check if the number is positive, negative, or zero using conditional statements\n",
        "  if num > 0:\n",
        "    print(f\"{num} is a positive number.\")\n",
        "  elif num < 0:\n",
        "    print(f\"{num} is a negative number.\")\n",
        "  else:\n",
        "    print(f\"{num} is zero.\")\n",
        "\n",
        "except ValueError:\n",
        "  print(\"Invalid input. Please enter a valid number.\")"
      ],
      "metadata": {
        "colab": {
          "base_uri": "https://localhost:8080/"
        },
        "id": "ioSYfa1D-eYk",
        "outputId": "7daf5e6f-7c01-4167-c690-7d9cb59515ae"
      },
      "execution_count": null,
      "outputs": [
        {
          "output_type": "stream",
          "name": "stdout",
          "text": [
            "Enter a number: 2.3\n",
            "2.3 is a positive number.\n"
          ]
        }
      ]
    },
    {
      "cell_type": "code",
      "source": [
        "#12 - Write a for loop to print numbers from 1 to 10.\n",
        "for i in range(1, 11):\n",
        "  print(i)"
      ],
      "metadata": {
        "colab": {
          "base_uri": "https://localhost:8080/"
        },
        "id": "_cSC5g72_INZ",
        "outputId": "d26f655e-479e-48da-de52-55abea103689"
      },
      "execution_count": null,
      "outputs": [
        {
          "output_type": "stream",
          "name": "stdout",
          "text": [
            "1\n",
            "2\n",
            "3\n",
            "4\n",
            "5\n",
            "6\n",
            "7\n",
            "8\n",
            "9\n",
            "10\n"
          ]
        }
      ]
    },
    {
      "cell_type": "code",
      "source": [
        "#13. Write a Python program to find the sum of all even numbers between 1 and 50\n",
        "\n",
        "total_sum = 0\n",
        "for number in range(1, 51):\n",
        "  if number % 2 == 0:\n",
        "    total_sum += number\n",
        "\n",
        "print(f\"The sum of all even numbers between 1 and 50 is: {total_sum}\")"
      ],
      "metadata": {
        "colab": {
          "base_uri": "https://localhost:8080/"
        },
        "id": "8OL9gaq1_jsc",
        "outputId": "77cb1f37-316d-4cd8-e752-bff5b6576332"
      },
      "execution_count": null,
      "outputs": [
        {
          "output_type": "stream",
          "name": "stdout",
          "text": [
            "The sum of all even numbers between 1 and 50 is: 650\n"
          ]
        }
      ]
    },
    {
      "cell_type": "code",
      "source": [
        "#14. Write a program to reverse a string using a while loop"
      ],
      "metadata": {
        "id": "EeNH3DF8Am6o"
      },
      "execution_count": null,
      "outputs": []
    },
    {
      "cell_type": "code",
      "metadata": {
        "colab": {
          "base_uri": "https://localhost:8080/"
        },
        "id": "07389136",
        "outputId": "1c797563-d3ab-4b79-a0d8-96c1e320154d"
      },
      "source": [
        "# 14. Write a program to reverse a string using a while loop\n",
        "\n",
        "input_string = input(\"Enter a string to reverse: \")\n",
        "reversed_string = \"\"\n",
        "index = len(input_string) - 1\n",
        "\n",
        "while index >= 0:\n",
        "  reversed_string += input_string[index]\n",
        "  index -= 1\n",
        "\n",
        "print(f\"The original string is: {input_string}\")\n",
        "print(f\"The reversed string is: {reversed_string}\")"
      ],
      "execution_count": null,
      "outputs": [
        {
          "output_type": "stream",
          "name": "stdout",
          "text": [
            "Enter a string to reverse: 10\n",
            "The original string is: 10\n",
            "The reversed string is: 01\n"
          ]
        }
      ]
    },
    {
      "cell_type": "code",
      "source": [
        "#15 - Write a Python program to calculate the factorial of a number provided by the user using a while loop.\n",
        "\n",
        "# Get input from the user\n",
        "num = int(input(\"Enter a non-negative integer: \"))\n",
        "\n",
        "# Check if the input is a non-negative integer\n",
        "if num < 0:\n",
        "  print(\"Factorial is not defined for negative numbers.\")\n",
        "elif num == 0:\n",
        "  print(\"The factorial of 0 is 1.\")\n",
        "else:\n",
        "  factorial = 1\n",
        "  i = 1\n",
        "  while i <= num:\n",
        "    factorial *= i\n",
        "    i += 1\n",
        "  print(f\"The factorial of {num} is {factorial}.\")"
      ],
      "metadata": {
        "colab": {
          "base_uri": "https://localhost:8080/"
        },
        "id": "l_FpJd9HA1bA",
        "outputId": "09a7625f-b009-440a-988d-2043842f1041"
      },
      "execution_count": null,
      "outputs": [
        {
          "output_type": "stream",
          "name": "stdout",
          "text": [
            "Enter a non-negative integer: 20\n",
            "The factorial of 20 is 2432902008176640000.\n"
          ]
        }
      ]
    }
  ]
}