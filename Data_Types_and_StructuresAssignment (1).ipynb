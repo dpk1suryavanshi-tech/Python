{
  "nbformat": 4,
  "nbformat_minor": 0,
  "metadata": {
    "colab": {
      "provenance": []
    },
    "kernelspec": {
      "name": "python3",
      "display_name": "Python 3"
    },
    "language_info": {
      "name": "python"
    }
  },
  "cells": [
    {
      "cell_type": "code",
      "execution_count": null,
      "metadata": {
        "id": "PJC1tlCdzdNN"
      },
      "outputs": [],
      "source": []
    },
    {
      "cell_type": "markdown",
      "source": [
        "\n",
        "What are data structures, and why are they important?\n",
        "\n",
        "1.  What are data structures, and why are they important?\n",
        "->Data structures are ways of organizing and storing data in a computer so that it can be accessed and modified efficiently. They are important because they allow us to manage and manipulate data effectively, which is crucial for developing efficient algorithms and solving complex problems.\n",
        "\n",
        "2. Explain the difference between mutable and immutable data types with examples?\n",
        "\n",
        "- > Mutable data types can be changed after they are created, while immutable data types cannot.\n",
        " Example -\n",
        " # Mutable example: Lists\n",
        "my_list = [1, 2, 3]\n",
        "print(\"Original list:\", my_list)\n",
        "\n",
        "my_list[0] = 100 # Modifying the list\n",
        "print(\"Modified list:\", my_list)\n",
        "Original list: [1, 2, 3]\n",
        "Modified list: [100, 2, 3]\n",
        "\n",
        "# Immutable example: Strings\n",
        "my_string = \"Hello\"\n",
        "print(\"Original string:\", my_string)\n",
        "\n",
        "# my_string[0] = \"J\"\n",
        "\n",
        "# it can reassign the variable to a new string\n",
        "my_string = \"Jello\"\n",
        "print(\"New string:\", my_string)\n",
        "Original string: Hello\n",
        "New string: Jello\n",
        "\n",
        "3. What are the main differences between lists and tuples in Python?\n",
        " -> The main differences between lists and tuples in Python are:\n",
        "\n",
        "   Mutability: Lists are mutable, meaning we can change their elements after creation. Tuples are immutable, meaning we cannot change their elements after creation.\n",
        "\n",
        "   Syntax: Lists are created using square brackets [], while tuples are created using parentheses ().\n",
        "\n",
        "   Performance: Tuples are generally faster than lists for iteration and accessing elements because of their immutable nature.\n",
        "\n",
        " 4.  Describe how dictionaries store data?\n",
        "\n",
        " Dictionaries in Python store data in key-value pairs. Each key is unique and associated with a specific value. You can think of it like a real-world dictionary where you look up a word (the key) to find its definition (the value).\n",
        "\n",
        "Here's a breakdown of how they work:\n",
        "\n",
        "Keys: Keys are used to access the values. They must be immutable data types like strings, numbers, or tuples.\n",
        "Values: Values can be any data type, including other dictionaries or lists.\n",
        "Unordered (in older Python versions): In Python versions before 3.7, dictionaries were unordered. The order in which items were inserted was not preserved.\n",
        "Ordered (in Python 3.7+): As of Python 3.7, dictionaries maintain insertion order.\n",
        "Mutable: Dictionaries are mutable, meaning you can add, remove, or modify key-value pairs after the dictionary is created.\n",
        "\n",
        "5. Why might you use a set instead of a list in Python?\n",
        "\n",
        " ->  There are few resons\n",
        "  Uniqueness: Sets automatically store only unique elements as if we add a duped item in set it will not be added this could be useful when we need to work with a collection of distinct items and want to easily eliminate duplicates. Lists, on the other hand, can contain duplicate elements.\n",
        "\n",
        "  -> Sets support mathematical set operations like union, intersection, difference, and symmetric difference. These operations are convenient for tasks involving comparing and combining collections of unique items.\n",
        "\n",
        " ->  While sets are mutable (you can add and remove elements), the elements themselves must be immutable. Lists can contain mutable elements.\n",
        "\n",
        " 6.  What is a string in Python, and how is it different from a list?\n",
        "\n",
        "  -> In Python, a string is an immutable sequence of characters, used to represent text. Strings are enclosed in single quotes (') or double quotes (\").\n",
        "  Strings in Python are sequences of characters enclosed in quotes ('' or “”). Lists are ordered collections of items enclosed in square brackets [].\n",
        "\n",
        "  Strings are immutable, meaning they cannot be changed once created, while lists are mutable and can be modified as needed.\n",
        "   \n",
        "\n",
        "   7. How do tuples ensure data integrity in Python?\n",
        "\n",
        "   Tuples in Python 3 ensure data integrity primarily through their immutability. This characteristic means that once a tuple is created, its contents cannot be changed, added to, or removed from.\n",
        "\n",
        "   8. What is a hash table, and how does it relate to dictionaries in Python?\n",
        "\n",
        "   Hash Table. A Hash Table is a data structure designed to be fast to work with. The reason Hash Tables are sometimes preferred instead of arrays or linked lists is because searching for, adding, and deleting data can be done really quickly, even for large amounts of data.\n",
        "\n",
        "   9. Can lists contain different data types in Python ?\n",
        "\n",
        "  -> Yes, Python lists can contain elements of different data types. This is a key feature of Python's flexibility and makes lists a highly versatile data structure.\n",
        "\n",
        "   For example, a single Python list can hold integers, strings, floats, booleans, and even other complex data structures like nested lists, tuples, or dictionaries, all within the same list.\n",
        "\n",
        "\n",
        " 10. Explain why strings are immutable in Python?\n",
        "\n",
        " -> Strings are immutable in Python, meaning that once a string object is created, its content cannot be directly modified. Any operation that appears to \"change\" a string, such as concatenation or replacement, actually results in the creation of a new string object in memory, with the original string remaining unchanged.\n",
        "\n",
        " 11. What advantages do dictionaries offer over lists for certain tasks?\n",
        "\n",
        " ->  Dictionaries are ideal for tasks requiring quick lookups, data mappings, and key-value associations. Lists are suitable for ordered collections, sequential processing, and scenarios where the order of elements matters.\n",
        "\n",
        " 12. Describe a scenario where using a tuple would be preferable over a list?\n",
        "\n",
        "-> For example, consider storing the coordinates of a fixed geographical location, such as a landmark or a specific point on a map. These coordinates (e.g., latitude and longitude) are inherently immutable; they do not change.\n",
        "\n",
        " # Using a tuple for immutable coordinates\n",
        "landmark_coordinates = (34.0522, -118.2437) # Los Angeles coordinates\n",
        "\n",
        "\n",
        "13. How do sets handle duplicate values in Python?\n",
        "\n",
        "Python sets are designed to store unique, unordered collections of elements. They inherently handle duplicate values by automatically discarding them.\n",
        "When you attempt to add an element that already exists in a set, the set simply ignores the addition; it does not raise an error, nor does it store a second instance of the duplicate value. The set maintains only one occurrence of each unique element.\n",
        "This behavior applies whether you are creating a set from a list or other iterable containing duplicates, or adding individual elements to an existing set using methods like add().\n",
        "\n",
        "14.  How does the “in” keyword work differently for lists and dictionaries?\n",
        "\n",
        " -->  The \"in\" keyword in Python functions differently when used with lists compared to dictionaries due to the fundamental structure and purpose of each data type.\n",
        "For Lists:\n",
        "When using \"in\" with a list, it checks for the presence of a specific value among the elements within the list. The operation involves iterating through the list, element by element, to see if a match is found.\n",
        "\n",
        "For Dictionaries:\n",
        "When using \"in\" with a dictionary, it checks for the presence of a specific key within the dictionary. It does not directly check for the presence of values. To check for values, you would need to use the .values() method, and to check for key-value pairs, you would use the .items() method.\n",
        "\n",
        "\n",
        "  15. Can you modify the elements of a tuple? Explain why or why not?\n",
        "\n",
        "  No, the elements of a tuple cannot be modified directly after the tuple has been created. Tuples are immutable data structures in Python. This means that once a tuple is defined, its size and the values of its elements cannot be changed.\n",
        "\n",
        "  Why Tuples are Immutable:\n",
        "Data Integrity:\n",
        "Immutability ensures that the data stored in a tuple remains constant throughout its lifetime. This is useful for representing fixed collections of data, such as coordinates, configuration settings, or database records, where accidental modification should be prevented.\n",
        "\n",
        "Hashability:\n",
        "Because tuples are immutable, they are hashable, meaning they can be used as keys in dictionaries or as elements in sets. Mutable objects like lists cannot be used in this way because their hash value could change if their contents were modified.\n",
        "\n",
        "Performance:\n",
        "In some cases, immutability can lead to minor performance optimizations as Python can make certain assumptions about the data.\n",
        "Attempting to modify a tuple directly will result in a TypeError, as shown in the following example:\n",
        "\n",
        "my_tuple = (1, 2, 3)\n",
        "# Attempting to modify an element\n",
        "# my_tuple[0] = 5  # This line would raise a TypeError\n",
        "\n",
        "16. What is a nested dictionary, and give an example of its use case?\n",
        "\n",
        "A nested dictionary is a dictionary where at least one of the values associated with a key is another dictionary. This allows you to create a hierarchical structure to organize data.\n",
        "\n",
        "Example\n",
        "\n",
        "student_grades = {\n",
        "    'Ajay': {\n",
        "        'Math': 95,\n",
        "        'Science': 88,\n",
        "        'English': 92\n",
        "    },\n",
        "    'Vijay': {\n",
        "        'Math': 78,\n",
        "        'Science': 85,\n",
        "        'English': 80\n",
        "    },\n",
        "    'Ram': {\n",
        "        'Math': 90,\n",
        "        'Science': 91,\n",
        "        'English': 87\n",
        "    }\n",
        "}\n",
        "\n",
        "# Accessing data in the nested dictionary\n",
        "print(f\"Ajay's Math grade: {student_grades['Ajay']['Math']}\")\n",
        "print(f\"Vijay's Science grade: {student_grades['Vijay']['Science']}\")\n",
        "\n",
        "\n",
        "17. Describe the time complexity of accessing elements in a dictionary\n",
        "\n",
        "Accessing elements in a dictionary, such as retrieving a value by its key, typically exhibits an average-case time complexity of O(1), also known as constant time. This means that, on average, the time required to access an element does not significantly increase with the size of the dictionary.\n",
        "\n",
        "18. In what situations are lists preferred over dictionaries3\n",
        "\n",
        "Lists are preferred over dictionaries in situations where:\n",
        "Order matters:\n",
        "\n",
        "Lists maintain the order of elements as they are added, making them suitable for sequences where the position of an item is significant (e.g., a list of steps in a process, a chronological log of events).\n",
        "Elements are accessed by index:\n",
        "If data needs to be retrieved based on its numerical position within a collection, lists are the appropriate choice as they are designed for efficient indexing.\n",
        "Frequent modifications involving insertion/deletion by position:\n",
        "Lists provide methods for adding or removing elements at specific positions, which is efficient when the order needs to be maintained and modified.\n",
        "Simple, ordered collections:\n",
        "\n",
        "When the primary need is to store a collection of items without the need for key-based lookups or associating values with unique identifiers, lists offer a straightforward and efficient solution.\n",
        "\n",
        "Duplicate elements are allowed and meaningful:\n",
        "Lists can contain duplicate elements, which is often necessary in ordered sequences (e.g., a shopping list with multiple instances of the same item). Dictionaries, on the other hand, require unique keys.\n",
        "\n",
        "19. Why are dictionaries considered unordered, and how does that affect data retrieval?\n",
        "\n",
        " -> Dictionaries are considered unordered because they don't store items in a specific sequence based on insertion order or any other predefined order.\n",
        "\n",
        " 20. Explain the difference between a list and a dictionary in terms of data retrieval ?\n",
        "\n",
        "\n",
        " Parameter\tList\tDictionary\n",
        "Definition\tAn ordered collection of items.\tAn unordered collection of data in a key: value pair form.\n",
        "Syntax\tUses square brackets [].\tUses curly braces {}.\n",
        "Ordering\tOrdered: Items have a defined order, which will not change.\tUnordered: Items do not have a defined order.\n",
        "Indexing\tAccessed by index, starting from 0.\tValues are accessed using keys.\n",
        "Mutability\tMutable: Items can be modified after creation.\tMutable: Values can be updated, and key: value pairs can be added or removed.\n",
        "Uniqueness\tAllows duplicate items.\tDoes not allow duplicate keys. However, values can be duplicated.\n",
        "Data Types\tIt can store any data type.\tKeys can be of any immutable data type (e.g., strings, numbers, tuples). Values can be of any type.\n",
        "Use Case\tWhen order matters or when you need to store multiple values for an item.\tWhen you need a unique key for each piece of data.\n",
        "Example\tfruits = [“apple”, “banana”, “cherry”]\tperson = {“name”: “John”, “age”: 30}\n",
        "Built-in Functions\tappend(), remove(), pop(), sort(), etc.\tkeys(), values(), items(), get(), pop(), etc.\n",
        "Performance\tFaster for ordered operations like sorting.\tFaster for lookup operations due to the hash mapping of keys.\n",
        "\n",
        "\n",
        "\n",
        "\n"
      ],
      "metadata": {
        "id": "y2dxj4W1zgZ5"
      }
    },
    {
      "cell_type": "code",
      "source": [
        "#Practical Questions\n",
        "\n",
        "# Write a code to create a string with your name and print it?\n",
        "My_name = \"Deepak\"\n",
        "print(My_name)"
      ],
      "metadata": {
        "colab": {
          "base_uri": "https://localhost:8080/"
        },
        "id": "3vuR-97SN2Nt",
        "outputId": "0395c436-bf9a-4910-ef2d-f7b00bd7a2f7"
      },
      "execution_count": 2,
      "outputs": [
        {
          "output_type": "stream",
          "name": "stdout",
          "text": [
            "Deepak\n"
          ]
        }
      ]
    },
    {
      "cell_type": "code",
      "source": [
        "# Write a code to find the length of the string \"Hello World\"?\n",
        "n = \"Hello World\"\n",
        "print(len(n))\n"
      ],
      "metadata": {
        "colab": {
          "base_uri": "https://localhost:8080/"
        },
        "id": "paYMUheqOxLi",
        "outputId": "3ea96277-ee88-4bcc-d58a-c1a6fe3d7bae"
      },
      "execution_count": 3,
      "outputs": [
        {
          "output_type": "stream",
          "name": "stdout",
          "text": [
            "11\n"
          ]
        }
      ]
    },
    {
      "cell_type": "code",
      "source": [
        "# 3 - Write a code to slice the first 3 characters from the string \"Python Programming\"\n",
        "p = \"Python Programming\"\n",
        "print(p[0:3])"
      ],
      "metadata": {
        "colab": {
          "base_uri": "https://localhost:8080/"
        },
        "id": "7wUFBZWxPCEx",
        "outputId": "95537b39-f935-44fa-bba5-79037300532f"
      },
      "execution_count": 4,
      "outputs": [
        {
          "output_type": "stream",
          "name": "stdout",
          "text": [
            "Pyt\n"
          ]
        }
      ]
    },
    {
      "cell_type": "code",
      "source": [
        "# Write a code to convert the string \"hello\" to uppercase?\n",
        "h = \"hello\"\n",
        "print(h.upper())\n"
      ],
      "metadata": {
        "colab": {
          "base_uri": "https://localhost:8080/"
        },
        "id": "qEKew7KXPQHf",
        "outputId": "672c5357-8f3a-42ec-dca6-808b57a1fb83"
      },
      "execution_count": 6,
      "outputs": [
        {
          "output_type": "stream",
          "name": "stdout",
          "text": [
            "HELLO\n"
          ]
        }
      ]
    },
    {
      "cell_type": "code",
      "source": [
        "# Write a code to replace the word \"apple\" with \"orange\" in the string \"I like apple\"\n",
        "s = \"I like apple\"\n",
        "print(s.replace(\"apple\",\"orange\"))"
      ],
      "metadata": {
        "colab": {
          "base_uri": "https://localhost:8080/"
        },
        "id": "pPdjG14KPowU",
        "outputId": "358ce5fc-a870-442b-cf42-4a0798a9c88b"
      },
      "execution_count": 7,
      "outputs": [
        {
          "output_type": "stream",
          "name": "stdout",
          "text": [
            "I like orange\n"
          ]
        }
      ]
    },
    {
      "cell_type": "code",
      "source": [
        "# Write a code to create a list with numbers 1 to 5 and print it?\n",
        "l  = [1,2,3,4,5]\n",
        "print(l)"
      ],
      "metadata": {
        "colab": {
          "base_uri": "https://localhost:8080/"
        },
        "id": "zms3tg0zP5F7",
        "outputId": "4565aef3-1ef9-4f76-f8d2-fdbec8765ff8"
      },
      "execution_count": 8,
      "outputs": [
        {
          "output_type": "stream",
          "name": "stdout",
          "text": [
            "[1, 2, 3, 4, 5]\n"
          ]
        }
      ]
    },
    {
      "cell_type": "code",
      "source": [
        "#Write a code to append the number 10 to the list [1, 2, 3, 4]\n",
        "l = [1,2,3,4]\n",
        "l.append(10)\n",
        "print(l)"
      ],
      "metadata": {
        "colab": {
          "base_uri": "https://localhost:8080/"
        },
        "id": "Q_hhdBD3QOl5",
        "outputId": "c6ea8770-88a0-4ff0-d33c-f3ba9b15ef7d"
      },
      "execution_count": 12,
      "outputs": [
        {
          "output_type": "stream",
          "name": "stdout",
          "text": [
            "[1, 2, 3, 4, 10]\n"
          ]
        }
      ]
    },
    {
      "cell_type": "code",
      "source": [
        "# Write a code to append the number 10 to the list [1, 2, 3, 4]\n",
        "l = [1, 2, 3, 4, 5]\n",
        "l.remove(3)\n",
        "print(l)\n"
      ],
      "metadata": {
        "colab": {
          "base_uri": "https://localhost:8080/"
        },
        "id": "7snrXDXWQcOi",
        "outputId": "175f4261-a53c-49b2-9ed8-0ae09f07280a"
      },
      "execution_count": 13,
      "outputs": [
        {
          "output_type": "stream",
          "name": "stdout",
          "text": [
            "[1, 2, 4, 5]\n"
          ]
        }
      ]
    },
    {
      "cell_type": "code",
      "source": [
        "# Write a code to access the second element in the list ['a', 'b', 'c', 'd']\n",
        "l = ['a', 'b', 'c', 'd']\n",
        "print(l[1])\n"
      ],
      "metadata": {
        "colab": {
          "base_uri": "https://localhost:8080/"
        },
        "id": "7VM6N4QjQ54S",
        "outputId": "77ad2ce4-4a7f-4d4c-f387-02cbc0b4394c"
      },
      "execution_count": 14,
      "outputs": [
        {
          "output_type": "stream",
          "name": "stdout",
          "text": [
            "b\n"
          ]
        }
      ]
    },
    {
      "cell_type": "code",
      "source": [
        "# Write a code to reverse the list [10, 20, 30, 40, 50].\n",
        "l = [10, 20, 30, 40, 50]\n",
        "l.reverse()\n",
        "print(l)\n"
      ],
      "metadata": {
        "colab": {
          "base_uri": "https://localhost:8080/"
        },
        "id": "PwDT1AiQRHEW",
        "outputId": "19b2bcb3-75a3-4787-94fa-0a526a7f184a"
      },
      "execution_count": 15,
      "outputs": [
        {
          "output_type": "stream",
          "name": "stdout",
          "text": [
            "[50, 40, 30, 20, 10]\n"
          ]
        }
      ]
    },
    {
      "cell_type": "code",
      "source": [
        "#  Write a code to create a tuple with the elements 100, 200, 300 and print it?\n",
        "my_tuple = (100, 200, 300)\n",
        "print(my_tuple)"
      ],
      "metadata": {
        "colab": {
          "base_uri": "https://localhost:8080/"
        },
        "id": "WVhZARUtRQ1p",
        "outputId": "b4032432-db0e-43f2-cf9a-03be1ac70c75"
      },
      "execution_count": 16,
      "outputs": [
        {
          "output_type": "stream",
          "name": "stdout",
          "text": [
            "(100, 200, 300)\n"
          ]
        }
      ]
    },
    {
      "cell_type": "code",
      "source": [
        "#  Write a code to access the second-to-last element of the tuple ('red', 'green', 'blue', 'yellow')\n",
        "my_tuple = ('red', 'green', 'blue', 'yellow')\n",
        "print(my_tuple[-2])"
      ],
      "metadata": {
        "colab": {
          "base_uri": "https://localhost:8080/"
        },
        "id": "xMXHvTH_RhF8",
        "outputId": "5b022c9f-861c-4427-f4f1-097299b2b532"
      },
      "execution_count": 17,
      "outputs": [
        {
          "output_type": "stream",
          "name": "stdout",
          "text": [
            "blue\n"
          ]
        }
      ]
    },
    {
      "cell_type": "code",
      "source": [
        "# Write a code to find the minimum number in the tuple (10, 20, 5, 15)\n",
        "t = (10, 20, 5, 15)\n",
        "min(t)"
      ],
      "metadata": {
        "colab": {
          "base_uri": "https://localhost:8080/"
        },
        "id": "8CcETftIRq7V",
        "outputId": "a4feabc9-4374-4907-aa01-2cf9a28aa138"
      },
      "execution_count": 19,
      "outputs": [
        {
          "output_type": "execute_result",
          "data": {
            "text/plain": [
              "5"
            ]
          },
          "metadata": {},
          "execution_count": 19
        }
      ]
    },
    {
      "cell_type": "code",
      "source": [
        "#Write a code to find the index of the element \"cat\" in the tuple ('dog', 'cat', 'rabbit').\n",
        "pet_animals = ('dog', 'cat', 'rabbit')\n",
        "index_of_cat = pet_animals.index('cat')\n",
        "print(index_of_cat)"
      ],
      "metadata": {
        "colab": {
          "base_uri": "https://localhost:8080/"
        },
        "id": "gbnNEDbbSCLE",
        "outputId": "c5c3e40c-8ad6-401b-ce27-d424a8f07f9d"
      },
      "execution_count": 20,
      "outputs": [
        {
          "output_type": "stream",
          "name": "stdout",
          "text": [
            "1\n"
          ]
        }
      ]
    },
    {
      "cell_type": "code",
      "source": [
        "# Write a code to create a tuple containing three different fruits and check if \"kiwi\" is in it.\n",
        "f = (\"apple\", \"banana\", \"cherry\")\n",
        "if \"kiwi\" in f:\n",
        "    print(\"kiwi is in the tuple\")\n",
        "else:\n",
        "    print(\"kiwi is not in the tuple\")"
      ],
      "metadata": {
        "colab": {
          "base_uri": "https://localhost:8080/"
        },
        "id": "ENXdFIPmSamw",
        "outputId": "c860cbdf-da75-4521-bf06-ef66ac54fb03"
      },
      "execution_count": 21,
      "outputs": [
        {
          "output_type": "stream",
          "name": "stdout",
          "text": [
            "kiwi is not in the tuple\n"
          ]
        }
      ]
    },
    {
      "cell_type": "code",
      "source": [
        " # Write a code to create a set with the elements 'a', 'b', 'c' and print it\n",
        "s = {'a', 'b', 'c'}\n",
        "print(s)"
      ],
      "metadata": {
        "colab": {
          "base_uri": "https://localhost:8080/"
        },
        "id": "bsh_dO1WSs3t",
        "outputId": "c21cd306-09b4-4260-9139-e57b7824dee2"
      },
      "execution_count": 23,
      "outputs": [
        {
          "output_type": "stream",
          "name": "stdout",
          "text": [
            "{'a', 'b', 'c'}\n"
          ]
        }
      ]
    },
    {
      "cell_type": "code",
      "source": [
        "# Write a code to clear all elements from the set {1, 2, 3, 4, 5}\n",
        "s = {1, 2, 3, 4, 5}\n",
        "s.clear()\n",
        "print(s)"
      ],
      "metadata": {
        "colab": {
          "base_uri": "https://localhost:8080/"
        },
        "id": "nKeoeQC4S_kW",
        "outputId": "1bd52d43-07e2-4cab-d669-988bc53041cc"
      },
      "execution_count": 25,
      "outputs": [
        {
          "output_type": "stream",
          "name": "stdout",
          "text": [
            "set()\n"
          ]
        }
      ]
    },
    {
      "cell_type": "code",
      "source": [
        "#Write a code to remove the element 4 from the set {1, 2, 3, 4}.\n",
        "\n",
        "my_set = {1, 2, 3, 4}\n",
        "my_set.remove(4)\n",
        "print(my_set)"
      ],
      "metadata": {
        "colab": {
          "base_uri": "https://localhost:8080/"
        },
        "id": "soQeGIMuTTz-",
        "outputId": "de56e1a5-4334-434f-bb65-8992e61c133f"
      },
      "execution_count": 27,
      "outputs": [
        {
          "output_type": "stream",
          "name": "stdout",
          "text": [
            "{1, 2, 3}\n"
          ]
        }
      ]
    },
    {
      "cell_type": "code",
      "source": [
        "# Write a code to find the union of two sets {1, 2, 3} and {3, 4, 5}.\n",
        "s1 = {1, 2, 3}\n",
        "s2 = {3, 4, 5}\n",
        "union_set = s1.union(s2)\n",
        "print(union_set)"
      ],
      "metadata": {
        "colab": {
          "base_uri": "https://localhost:8080/"
        },
        "id": "SZK-w3YfTntQ",
        "outputId": "95fdc516-1598-42a0-dd28-1dd361097292"
      },
      "execution_count": 28,
      "outputs": [
        {
          "output_type": "stream",
          "name": "stdout",
          "text": [
            "{1, 2, 3, 4, 5}\n"
          ]
        }
      ]
    },
    {
      "cell_type": "code",
      "source": [
        "# Write a code to find the intersection of two sets {1, 2, 3} and {2, 3, 4}\n",
        "s1 = {1, 2, 3}\n",
        "s2 = {2, 3, 4}\n",
        "intersection_set = s1.intersection(s2)\n",
        "print(intersection_set)"
      ],
      "metadata": {
        "colab": {
          "base_uri": "https://localhost:8080/"
        },
        "id": "yf3GvbznTyEz",
        "outputId": "6963f295-da45-4eab-c59d-f6aa942c0fbc"
      },
      "execution_count": 30,
      "outputs": [
        {
          "output_type": "stream",
          "name": "stdout",
          "text": [
            "{2, 3}\n"
          ]
        }
      ]
    },
    {
      "cell_type": "code",
      "source": [
        "# Write a code to create a dictionary with the keys \"name\", \"age\", and \"city\", and print it\n",
        "my_dict = {\n",
        "    \"name\": \"Deepak\",\n",
        "    \"age\": 30,\n",
        "    \"city\": \"Bengaluru\"\n",
        "}\n",
        "print(my_dict)"
      ],
      "metadata": {
        "colab": {
          "base_uri": "https://localhost:8080/"
        },
        "id": "Dmd3iVr5T-QA",
        "outputId": "5c26493f-bd6a-4df3-ade9-3ed5a810a81a"
      },
      "execution_count": 32,
      "outputs": [
        {
          "output_type": "stream",
          "name": "stdout",
          "text": [
            "{'name': 'Deepak', 'age': 30, 'city': 'Bengaluru'}\n"
          ]
        }
      ]
    },
    {
      "cell_type": "code",
      "source": [
        "# Write a code to add a new key-value pair \"country\": \"USA\" to the dictionary {'name': 'John', 'age': 25}.\n",
        "\n",
        "my_dict1 = {'name': 'John', 'age': 25}\n",
        "my_dict1[\"country\"] = \"USA\"\n",
        "print(my_dict1)"
      ],
      "metadata": {
        "colab": {
          "base_uri": "https://localhost:8080/"
        },
        "id": "jOrwNXH3UT67",
        "outputId": "b1698acc-ab56-41e1-a767-6c3221f24f44"
      },
      "execution_count": 33,
      "outputs": [
        {
          "output_type": "stream",
          "name": "stdout",
          "text": [
            "{'name': 'John', 'age': 25, 'country': 'USA'}\n"
          ]
        }
      ]
    },
    {
      "cell_type": "code",
      "source": [
        " # Write a code to access the value associated with the key \"name\" in the dictionary {'name': 'Alice', 'age': 30}.\n",
        "\n",
        "my_dict = {'name': 'Alice', 'age': 30}\n",
        "name_value = my_dict[\"name\"]\n",
        "print(name_value)"
      ],
      "metadata": {
        "colab": {
          "base_uri": "https://localhost:8080/"
        },
        "id": "az1SOuwwU071",
        "outputId": "dfb6121e-73bd-4190-c3a0-1f23327a9167"
      },
      "execution_count": 34,
      "outputs": [
        {
          "output_type": "stream",
          "name": "stdout",
          "text": [
            "Alice\n"
          ]
        }
      ]
    },
    {
      "cell_type": "code",
      "source": [
        " # Write a code to remove the key \"age\" from the dictionary {'name': 'Bob', 'age': 22, 'city': 'New York'}.\n",
        " my_dict = {'name': 'Bob', 'age': 22, 'city': 'New York'}\n",
        "del my_dict[\"age\"]\n",
        "print(my_dict)"
      ],
      "metadata": {
        "colab": {
          "base_uri": "https://localhost:8080/"
        },
        "id": "IF5eWoQtVRkT",
        "outputId": "eae71ad0-8b6c-4c94-d86b-e598300286f3"
      },
      "execution_count": 35,
      "outputs": [
        {
          "output_type": "stream",
          "name": "stdout",
          "text": [
            "{'name': 'Bob', 'city': 'New York'}\n"
          ]
        }
      ]
    },
    {
      "cell_type": "code",
      "source": [
        "# Write a code to check if the key \"city\" exists in the dictionary {'name': 'Alice', 'city': 'Paris'}.\n",
        "my_dict = {'name': 'Alice', 'city': 'Paris'}\n",
        "if \"city\" in my_dict:\n",
        "    print(\"The key 'city' exists in the dictionary.\")\n",
        "else:\n",
        "    print(\"The key 'city' does not exist in the dictionary.\")\n"
      ],
      "metadata": {
        "colab": {
          "base_uri": "https://localhost:8080/"
        },
        "id": "E7K0MJSiVcMb",
        "outputId": "37f12506-fbc4-49a8-c3cf-ed11be7971b5"
      },
      "execution_count": 37,
      "outputs": [
        {
          "output_type": "stream",
          "name": "stdout",
          "text": [
            "The key 'city' exists in the dictionary.\n"
          ]
        }
      ]
    },
    {
      "cell_type": "code",
      "source": [
        "# Write a code to create a list, a tuple, and a dictionary, and print them all\n",
        "\n",
        "my_list = [1, 2, 3]\n",
        "my_tuple = (4, 5, 6)\n",
        "my_dict = {\"a\": 7, \"b\": 8, \"c\": 9}\n",
        "\n",
        "print(\"List:\", my_list)\n",
        "print(\"Tuple:\", my_tuple)\n",
        "print(\"Dictionary:\", my_dict)"
      ],
      "metadata": {
        "colab": {
          "base_uri": "https://localhost:8080/"
        },
        "id": "-xqIHHE8VnQT",
        "outputId": "6984e2ef-a00e-4f50-c56f-343fc163ae5b"
      },
      "execution_count": 39,
      "outputs": [
        {
          "output_type": "stream",
          "name": "stdout",
          "text": [
            "List: [1, 2, 3]\n",
            "Tuple: (4, 5, 6)\n",
            "Dictionary: {'a': 7, 'b': 8, 'c': 9}\n"
          ]
        }
      ]
    },
    {
      "cell_type": "code",
      "source": [
        "#Write a code to create a list of 5 random numbers between 1 and 100, sort it in ascending order, and print the result.(replaced)\n",
        "import random\n",
        "l = [random.randint(1, 100) for _ in range(5)]\n",
        "l.sort()\n",
        "print(l)"
      ],
      "metadata": {
        "colab": {
          "base_uri": "https://localhost:8080/"
        },
        "id": "WtpXTL3FVzF0",
        "outputId": "74b76124-32e5-4a32-cdf9-9a2995a39c8b"
      },
      "execution_count": 41,
      "outputs": [
        {
          "output_type": "stream",
          "name": "stdout",
          "text": [
            "[41, 58, 74, 83, 100]\n"
          ]
        }
      ]
    },
    {
      "cell_type": "code",
      "source": [
        "# Write a code to create a list with strings and print the element at the third index.\n",
        "l = [\"Ajay\", \"Vijay\" ,\"Deepak\", \"Rohit\", \"Ashish\"]\n",
        "print(l[3])"
      ],
      "metadata": {
        "colab": {
          "base_uri": "https://localhost:8080/"
        },
        "id": "Ft7v5ze2WJqr",
        "outputId": "f615af6a-1b79-4f38-f0e0-47a200c40852"
      },
      "execution_count": 43,
      "outputs": [
        {
          "output_type": "stream",
          "name": "stdout",
          "text": [
            "Rohit\n"
          ]
        }
      ]
    },
    {
      "cell_type": "code",
      "source": [
        "# Write a code to combine two dictionaries into one and print the result.\n",
        "dict1 = {\"a\": 1, \"b\": 2}\n",
        "dict2 = {\"c\": 3, \"d\": 4}\n",
        "\n",
        "combined_dict = dict1.copy()\n",
        "combined_dict.update(dict2)\n",
        "\n",
        "print(combined_dict)"
      ],
      "metadata": {
        "colab": {
          "base_uri": "https://localhost:8080/"
        },
        "id": "ModY13h7WrEc",
        "outputId": "5ef7bf04-10c7-4345-cac0-bf1390918323"
      },
      "execution_count": 47,
      "outputs": [
        {
          "output_type": "stream",
          "name": "stdout",
          "text": [
            "{'a': 1, 'b': 2, 'c': 3, 'd': 4}\n"
          ]
        }
      ]
    },
    {
      "cell_type": "code",
      "source": [],
      "metadata": {
        "id": "fJFTwFPMXBnJ"
      },
      "execution_count": null,
      "outputs": []
    },
    {
      "cell_type": "code",
      "metadata": {
        "colab": {
          "base_uri": "https://localhost:8080/"
        },
        "id": "bbb3e7c4",
        "outputId": "06068271-7f9a-442f-a399-056279ffd46e"
      },
      "source": [
        "# Write a code to convert a list of strings into a set.\n",
        "my_list = [\"apple\", \"banana\", \"cherry\", \"apple\"]\n",
        "my_set = set(my_list)\n",
        "print(my_set)"
      ],
      "execution_count": 48,
      "outputs": [
        {
          "output_type": "stream",
          "name": "stdout",
          "text": [
            "{'banana', 'cherry', 'apple'}\n"
          ]
        }
      ]
    }
  ]
}