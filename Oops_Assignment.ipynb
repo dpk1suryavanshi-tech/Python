{
  "nbformat": 4,
  "nbformat_minor": 0,
  "metadata": {
    "colab": {
      "provenance": []
    },
    "kernelspec": {
      "name": "python3",
      "display_name": "Python 3"
    },
    "language_info": {
      "name": "python"
    }
  },
  "cells": [
    {
      "cell_type": "markdown",
      "source": [
        "1. What is Object-Oriented Programming (OOP)?\n",
        " --> Object Oriented Programming is a fundamental concept in Python, empowering developers to build modular, maintainable, and scalable applications.\n",
        "\n",
        "OOPs is a way of organizing code that uses objects and classes to represent real-world entities and their behavior. In OOPs, object has attributes thing that has specific data and can perform certain actions using methods.\n",
        "\n",
        "OOP Concepts in Python\n",
        "Class in Python\n",
        "Objects in Python\n",
        "Polymorphism in Python\n",
        "Encapsulation in Python\n",
        "Inheritance in Python\n",
        "Data Abstraction\n",
        "\n",
        "2. What is a class in OOP?\n",
        "\n",
        "--> A class is a way of organizing information about a type of data so a programmer can reuse elements when making multiple instances of that data type—for example, if a programmer wanted to make three instances of Car , maybe a BMW, a Ferrari, and a Ford instance.\n",
        "\n",
        "3.What is an object in OOP?\n",
        "\n",
        " Object-Oriented Programming (OOP) is a programming paradigm based on the concept of \"objects\", which can contain data in the form of fields (often known as attributes or properties) and code in the form of procedures (often known as methods).\n",
        "\n",
        " An object type is a user-defined composite datatype that encapsulates a data structure along with the functions and procedures needed to manipulate the data. The variables that form the data structure are called attributes.\n",
        "\n",
        " 4.What is the difference between abstraction and encapsulation?\n",
        "\n",
        "\n",
        " -->  Abstraction focuses on hiding complex implementation details and showing only the essential features of an object. It's about \"what\" the object does, not \"how\" it does it. Think of it like driving a car – you interact with the steering wheel, accelerator, and brake without needing to know the intricate workings of the engine.\n",
        "\n",
        "Encapsulation is the bundling of data (attributes) and methods (functions) that operate on the data into a single unit, which is a class. It's about restricting direct access to some of an object's components and preventing accidental modification of data. Think of it like a capsule containing medication – the contents are protected within the capsule.\n",
        "\n",
        "In simpler terms:\n",
        "\n",
        "Abstraction = Hiding complexity (showing only what's necessary)\n",
        "Encapsulation = Bundling data and methods (protecting data and controlling access)\n",
        "\n",
        "\n",
        "5. What are dunder methods in Python?\n",
        "\n",
        "Python Magic methods are the methods starting and ending with double underscores '__'. They are defined by built-in classes in Python and commonly used for operator overloading.\n",
        "\n",
        "They are also called Dunder methods, Dunder here means \"Double Under (Underscores)\".\n",
        "\n",
        "6. Explain the concept of inheritance in OOP?\n",
        "\n",
        "Inheritance is the concept in OOPs in which one class inherits the attributes and methods of another class. The class whose properties and methods are inherited is known as the Parent class. And the class that inherits the properties from the parent class is the Child class.\n",
        "\n",
        "7.  What is polymorphism in OOP?\n",
        "\n",
        "Polymorphism means \"many forms\". It refers to the ability of an entity (like a function or object) to perform different actions based on the context.\n",
        "\n",
        "Technically, in Python, polymorphism allows same method, function or operator to behave differently depending on object it is working with. This makes code more flexible and reusable.\n",
        "\n",
        "8. How is encapsulation achieved in Python?\n",
        "\n",
        " --> Encapsulation is achieved by bundling the data (attributes) and the methods (functions) that operate on the data within a single unit, typically a class. This bundling is often accompanied by restricting direct access to the internal data from outside the class, which is known as information hiding or data hiding.\n",
        "\n",
        "\n",
        "9. H What is a constructor in Python?\n",
        "\n",
        "A constructor is a unique function that gets called automatically when an object of a class is created. The main purpose of a constructor is to initialize or assign values to the data members of that class. It cannot return any value other than none.\n",
        "\n",
        "\n",
        "10. What are class and static methods in Python?\n",
        "\n",
        "In Python, both class methods and static methods are defined within a class but differ in their access to class and instance data, and how they are called.\n",
        "Class Method:\n",
        "Definition:\n",
        "A class method is defined using the @classmethod decorator and takes the class itself as its first argument, conventionally named cls.\n",
        "Access:\n",
        "It can access and modify class-level attributes and call other class methods using the cls argument. It does not have access to instance-specific attributes directly.\n",
        "Use Cases:\n",
        "Class methods are commonly used for alternative constructors (methods that create instances of the class in different ways) or for operations that affect the entire class, such as modifying shared class data.\n",
        "Static Method:\n",
        "Definition:\n",
        "A static method is defined using the @staticmethod decorator and does not take self (instance) or cls (class) as its first argument. It behaves like a regular function but is logically grouped within the class.\n",
        "Access:\n",
        "It cannot access or modify instance-specific or class-level attributes directly. It operates independently of any specific instance or the class's state.\n",
        "Use Cases:\n",
        "Static methods are suitable for utility functions that are logically related to the class but do not require access to the class's or instance's state. For example, a validation function for input data related to the class.\n",
        "Key Differences Summarized:\n",
        "First Argument: Class methods take cls, static methods take no special first argument.\n",
        "Access to State: Class methods can access and modify class state, while static methods cannot access class or instance state directly.\n",
        "Purpose: Class methods are for class-level operations and alternative constructors; static methods are for utility functions logically grouped with the class.\n",
        "\n",
        "\n",
        "11. What is method overloading in Python?\n",
        "\n",
        "Method overloading is a feature of object-oriented programming where a class can have multiple methods with the same name but different parameters. To overload method, we must change the number of parameters or the type of parameters, or both.\n",
        "\n",
        "#Example\n",
        "class example:\n",
        "   def add(self, a, b):\n",
        "      x = a+b\n",
        "      return x\n",
        "   def add(self, a, b, c):\n",
        "      x = a+b+c\n",
        "      return x\n",
        "\n",
        "obj = example()\n",
        "\n",
        "print (obj.add(10,20,30))\n",
        "print (obj.add(10,20))\n",
        "\n",
        "12. What is method overriding in OOP?\n",
        "\n",
        "Method overriding, in object-oriented programming, is a language feature that allows a subclass or child class to provide a specific implementation of a method that is already provided by one of its superclasses or parent classes.\n",
        "\n",
        "13. What is a property decorator in Python?\n",
        "\n",
        "A decorator feature in Python wraps in a function, appends several functionalities to existing code and then returns it. Methods and functions are known to be callable as they can be called. Therefore, a decorator is also a callable that returns callable.\n",
        "\n",
        "14. Why is polymorphism important in OOP?\n",
        "\n",
        "Polymorphism is important in OOP because it enables code reusability, flexibility, and scalability by allowing a single action or method to be performed in various ways by different objects.\n",
        "\n",
        "15. What is an abstract class in Python?\n",
        "\n",
        "An abstract class in Python is a class that cannot be instantiated directly and serves as a blueprint or template for other classes. It is designed to define a common interface and enforce a consistent structure among its subclasses.\n",
        "\n",
        "16. What are the advantages of OOP?\n",
        "\n",
        "The main advantages of Object-Oriented Programming (OOP) are modularity, code reusability through inheritance, flexibility and extensibility via polymorphism, enhanced security and data integrity from encapsulation and abstraction, improved scalability for complex systems, easier maintenance, and better collaboration among developers.\n",
        "\n",
        "17. What is the difference between a class variable and an instance variable?\n",
        "\n",
        " --> The fundamental difference between a class variable and an instance variable lies in their scope, storage, and how they are accessed and shared among objects of a class.\n",
        "Class Variable:\n",
        "Scope:\n",
        "Defined at the class level, outside of any instance methods. It belongs to the class itself, not to any specific instance.\n",
        "Storage:\n",
        "There is only one copy of a class variable, shared by all instances of that class. Changes made to a class variable by one instance are reflected in all other instances.\n",
        "Access:\n",
        "Can be accessed using the class name (e.g., ClassName.variable_name) or through an instance (e.g., instance_name.variable_name), though the former is preferred for clarity when referring to the shared nature.\n",
        "Purpose:\n",
        "Often used for constants, shared configurations, or data that needs to be consistent across all instances of a class (e.g., a counter for the number of instances created).\n",
        "Instance Variable:\n",
        "Scope:\n",
        "Defined within an instance method (typically the constructor, __init__ in Python). It belongs to a specific instance of the class.\n",
        "Storage:\n",
        "Each instance of the class gets its own independent copy of the instance variables. Changes made to an instance variable in one object do not affect the same variable in other objects.\n",
        "Access:\n",
        "Can only be accessed through an instance of the class (e.g., instance_name.variable_name).\n",
        "Purpose:\n",
        "Used to store data that is unique to each individual object, representing its specific state or characteristics (e.g., the name of a person object, the balance of a bank account object).\n",
        "\n",
        "18. What is multiple inheritance in Python?\n",
        "\n",
        " -- > Inheritance is the mechanism to achieve the re-usability of code as one class(child class) can derive the properties of another class(parent class). It also provides transitivity ie. if class C inherits from P then all the sub-classes of C would also inherit from P.\n",
        "\n",
        " 19. Explain the purpose of ‘’__str__’ and ‘__repr__’ ‘ methods in Python?\n",
        "\n",
        " __str__ and __repr__ are special methods (often called \"dunder methods\" for their double underscores) that define how an object is represented as a string. They serve different purposes and are aimed at different audiences.\n",
        "\n",
        " 20.  What is the significance of the ‘super()’ function in Python?\n",
        "\n",
        " --> The super() function in Python holds significant importance in object-oriented programming, particularly when dealing with inheritance. Its primary purpose is to provide a way to access methods and properties of a parent or sibling class from within a child or subclass\n",
        "\n",
        "21. What is the significance of the __del__ method in Python?\n",
        " --> The __del__ method in Python, often referred to as a destructor, holds significance in object-oriented programming for managing resources and performing cleanup actions when an object is about to be destroyed.\n",
        "\n",
        " 22. What is the difference between @staticmethod and @classmethod in Python?\n",
        "   \n",
        "\n",
        "\n",
        "   The primary difference between @staticmethod and @classmethod in Python lies in their access to the class and its instances.\n",
        "@classmethod:\n",
        "Takes cls as the first argument:\n",
        "A class method receives the class itself as its first parameter, conventionally named cls. This allows the method to access and modify class-level attributes and call other class methods.\n",
        "Can access and modify class state:\n",
        "Because it receives cls, a class method can interact with the class's attributes and potentially change the class's state, affecting all instances.\n",
        "Commonly used for factory methods:\n",
        "Class methods are frequently employed to create alternative constructors or factory methods that return instances of the class based on different input parameters or conditions.\n",
        "@staticmethod:\n",
        "Does not take self or cls as an argument:\n",
        "A static method does not receive any special first argument like self (for instance methods) or cls (for class methods).\n",
        "Cannot access or modify class or instance state:\n",
        "Due to the lack of self or cls, static methods cannot directly access or modify class-level attributes or instance-specific data.\n",
        "Used for utility functions:\n",
        "Static methods are typically used for utility functions that are logically related to the class but do not require any knowledge of the class's state or its instances. They behave like regular functions but are encapsulated within the class's namespace.\n",
        "In summary:\n",
        "Choose @classmethod when the method needs to interact with the class itself (e.g., access class attributes, create new instances of the class).\n",
        "Choose @staticmethod when the method is a standalone utility function that happens to be logically grouped with the class but does not require access to the class or instance state.\n",
        "\n",
        "\n",
        "23. How does polymorphism work in Python with inheritance?\n",
        "\n",
        "Polymorphism means \"many forms\", and it occurs when we have many classes that are related to each other by inheritance. Like we specified in the previous chapter; Inheritance lets us inherit attributes and methods from another class. Polymorphism uses those methods to perform different tasks.\n",
        "\n",
        "24. What is method chaining in Python OOP?\n",
        "\n",
        "Method chaining in Python Object-Oriented Programming (OOP) is a technique that allows for the sequential invocation of multiple methods on a single object within a continuous line of code. This is achieved by having each method in the chain return the object itself (or a modified version of it), enabling the next method to be called directly on the returned object without the need for intermediate variable assignments.\n",
        "\n",
        "25. What is the purpose of the __call__ method in Python?\n",
        "\n",
        "The purpose of the __call__ method in Python is to enable instances of a class to be invoked as if they were functions. When an object that has a __call__ method defined is \"called\" using parentheses, like object_instance(argument1, argument2), the __call__ method of that object is automatically executed.\n",
        "\n"
      ],
      "metadata": {
        "id": "wZqIVsEIHFLn"
      }
    },
    {
      "cell_type": "markdown",
      "source": [
        "# Practical Questions"
      ],
      "metadata": {
        "id": "wZAeb9DHNVjd"
      }
    },
    {
      "cell_type": "code",
      "source": [],
      "metadata": {
        "id": "JHYHiwKKNZpf"
      },
      "execution_count": null,
      "outputs": []
    },
    {
      "cell_type": "code",
      "metadata": {
        "id": "c37b1184"
      },
      "source": [
        "# Create a parent class Animal with a method speak() that prints a generic message. Create a child class Dogthat overrides the speak() method to print \"Bark!\".\n",
        "\n",
        "class Animal:\n",
        "    def speak(self):\n",
        "        print(\"Generic animal sound\")\n",
        "\n",
        "class Dog(Animal):\n",
        "    def speak(self):\n",
        "        print(\"Bark!\")"
      ],
      "execution_count": 1,
      "outputs": []
    },
    {
      "cell_type": "code",
      "source": [
        "#  Write a program to create an abstract class Shape with a method area(). Derive classes Circle and Rectanglefrom it and implement the area() method in both.\n",
        "\n",
        "from abc import ABC, abstractmethod\n",
        "import math\n",
        "\n",
        "class Shape(ABC):\n",
        "    @abstractmethod\n",
        "    def area(self):\n",
        "        pass\n",
        "\n",
        "class Circle(Shape):\n",
        "    def __init__(self, radius):\n",
        "        self.radius = radius\n",
        "\n",
        "    def area(self):\n",
        "        return math.pi * self.radius**2\n",
        "\n",
        "class Rectangle(Shape):\n",
        "    def __init__(self, length, width):\n",
        "        self.length = length\n",
        "        self.width = width\n",
        "\n",
        "    def area(self):\n",
        "        return self.length * self.width\n",
        "\n",
        "# Example usage:\n",
        "circle = Circle(5)\n",
        "print(f\"Area of Circle: {circle.area()}\")\n",
        "\n",
        "rectangle = Rectangle(4, 6)\n",
        "print(f\"Area of Rectangle: {rectangle.area()}\")\n",
        "\n"
      ],
      "metadata": {
        "id": "5Ng7Ov5uNtXD"
      },
      "execution_count": null,
      "outputs": []
    },
    {
      "cell_type": "code",
      "metadata": {
        "id": "ef9138f4"
      },
      "source": [
        "#  Implement a multi-level inheritance scenario where a class Vehicle has an attribute type. Derive a class Car\n",
        "and further derive a class ElectricCar that adds a battery attribute.\n",
        "class Vehicle:\n",
        "    def __init__(self, vehicle_type):\n",
        "        self.type = vehicle_type\n",
        "\n",
        "class Car(Vehicle):\n",
        "    def __init__(self, vehicle_type, model):\n",
        "        super().__init__(vehicle_type)\n",
        "        self.model = model\n",
        "\n",
        "class ElectricCar(Car):\n",
        "    def __init__(self, vehicle_type, model, battery_capacity):\n",
        "        super().__init__(vehicle_type, model)\n",
        "        self.battery_capacity = battery_capacity"
      ],
      "execution_count": 3,
      "outputs": []
    },
    {
      "cell_type": "code",
      "source": [
        "#4. Demonstrate polymorphism by creating a base class Bird with a method fly(). Create two derived classes Sparrow and Penguin that override the fly() method.\n"
      ],
      "metadata": {
        "id": "bAdYH-kjOU7o"
      },
      "execution_count": null,
      "outputs": []
    },
    {
      "cell_type": "code",
      "metadata": {
        "id": "c64f4d2d"
      },
      "source": [
        "class Bird:\n",
        "    def fly(self):\n",
        "        print(\"Most birds can fly\")\n",
        "\n",
        "class Sparrow(Bird):\n",
        "    def fly(self):\n",
        "        print(\"Sparrows fly short distances\")\n",
        "\n",
        "class Penguin(Bird):\n",
        "    def fly(self):\n",
        "        print(\"Penguins cannot fly\")"
      ],
      "execution_count": 4,
      "outputs": []
    },
    {
      "cell_type": "code",
      "metadata": {
        "colab": {
          "base_uri": "https://localhost:8080/"
        },
        "id": "19f0aa45",
        "outputId": "63e5f787-e967-4bae-c127-c0ca05172e61"
      },
      "source": [
        "# Demonstrate polymorphism\n",
        "def bird_flying_demo(bird):\n",
        "    bird.fly()\n",
        "\n",
        "sparrow = Sparrow()\n",
        "penguin = Penguin()\n",
        "\n",
        "bird_flying_demo(sparrow)\n",
        "bird_flying_demo(penguin)"
      ],
      "execution_count": 5,
      "outputs": [
        {
          "output_type": "stream",
          "name": "stdout",
          "text": [
            "Sparrows fly short distances\n",
            "Penguins cannot fly\n"
          ]
        }
      ]
    },
    {
      "cell_type": "code",
      "source": [
        " #5 Write a program to demonstrate encapsulation by creating a class BankAccount with private attributesbalance and methods to deposit, withdraw, and check balance."
      ],
      "metadata": {
        "id": "oQA6F29tOjYW"
      },
      "execution_count": null,
      "outputs": []
    },
    {
      "cell_type": "code",
      "metadata": {
        "id": "23b026ac"
      },
      "source": [
        "class BankAccount:\n",
        "    def __init__(self, initial_balance=0):\n",
        "        # Private attribute for balance\n",
        "        self.__balance = initial_balance\n",
        "\n",
        "    def deposit(self, amount):\n",
        "        if amount > 0:\n",
        "            self.__balance += amount\n",
        "            print(f\"Deposited: {amount}. New balance: {self.__balance}\")\n",
        "        else:\n",
        "            print(\"Deposit amount must be positive.\")\n",
        "\n",
        "    def withdraw(self, amount):\n",
        "        if amount > 0:\n",
        "            if self.__balance >= amount:\n",
        "                self.__balance -= amount\n",
        "                print(f\"Withdrew: {amount}. New balance: {self.__balance}\")\n",
        "            else:\n",
        "                print(\"Insufficient funds.\")\n",
        "        else:\n",
        "            print(\"Withdrawal amount must be positive.\")\n",
        "\n",
        "    def check_balance(self):\n",
        "        print(f\"Current balance: {self.__balance}\")"
      ],
      "execution_count": 6,
      "outputs": []
    },
    {
      "cell_type": "code",
      "source": [
        "#6  Demonstrate runtime polymorphism using a method play() in a base class Instrument. Derive classes Guitar and Piano that implement their own version of play().\n",
        "\n",
        "class Instrument:\n",
        "    def play(self):\n",
        "        pass  # Base class does nothing\n",
        "\n",
        "class Guitar(Instrument):\n",
        "    def play(self):\n",
        "        return \"Strumming the guitar strings.\"\n",
        "\n",
        "class Piano(Instrument):\n",
        "    def play(self):\n",
        "        return \"Playing the piano keys.\"\n",
        "\n",
        "# Demonstrate runtime polymorphism\n",
        "instruments = [Guitar(), Piano()]\n",
        "\n",
        "for instrument in instruments:\n",
        "    print(instrument.play())"
      ],
      "metadata": {
        "id": "lVoW8_C9OyXa"
      },
      "execution_count": null,
      "outputs": []
    },
    {
      "cell_type": "code",
      "source": [
        "#7  Create a class MathOperations with a class method add_numbers() to add two numbers and a staticmethod subtract_numbers() to subtract two numbers.\n",
        "\n",
        "class MathOperations:\n",
        "    @classmethod\n",
        "    def add_numbers(cls, x, y):\n",
        "        return x + y\n",
        "\n",
        "    @staticmethod\n",
        "    def subtract_numbers(x, y):\n",
        "        return x - y\n",
        "\n",
        "# Example usage:\n",
        "print(f\"Addition: {MathOperations.add_numbers(10, 5)}\")\n",
        "print(f\"Subtraction: {MathOperations.subtract_numbers(10, 5)}\")"
      ],
      "metadata": {
        "id": "ufEivd6fPGCO"
      },
      "execution_count": null,
      "outputs": []
    },
    {
      "cell_type": "code",
      "source": [
        "\n",
        "# Implement a class Person with a class method to count the total number of persons created.\n",
        "\n",
        "class Person:\n",
        "    count = 0  # Class variable to keep track of the count\n",
        "\n",
        "    def __init__(self, name):\n",
        "        self.name = name\n",
        "        Person.count += 1  # Increment the count when a new instance is created\n",
        "\n",
        "    @classmethod\n",
        "    def total_persons(cls):\n",
        "        return cls.count\n",
        "\n",
        "# Example usage:\n",
        "person1 = Person(\"Alice\")\n",
        "person2 = Person(\"Bob\")\n",
        "person3 = Person(\"Charlie\")\n",
        "\n",
        "print(f\"Total number of persons created: {Person.total_persons()}\")"
      ],
      "metadata": {
        "colab": {
          "base_uri": "https://localhost:8080/"
        },
        "id": "c2lJVZkPPS8I",
        "outputId": "4bce6586-5057-46d2-cc81-2f22f2e8e19b"
      },
      "execution_count": 7,
      "outputs": [
        {
          "output_type": "stream",
          "name": "stdout",
          "text": [
            "Total number of persons created: 3\n"
          ]
        }
      ]
    },
    {
      "cell_type": "code",
      "source": [
        " # Write a class Fraction with attributes numerator and denominator. Override the str method to display the raction as \"numerator/denominator\".\n",
        "\n",
        " class Fraction:\n",
        "    def __init__(self, numerator, denominator):\n",
        "        self.numerator = numerator\n",
        "        self.denominator = denominator\n",
        "\n",
        "    def __str__(self):\n",
        "        return f\"{self.numerator}/{self.denominator}\"\n",
        "\n",
        "# Example usage:\n",
        "fraction = Fraction(3, 4)\n",
        "print(fraction)"
      ],
      "metadata": {
        "colab": {
          "base_uri": "https://localhost:8080/"
        },
        "id": "wd8R4L5pPm00",
        "outputId": "17ed0fa6-a621-4153-fb4f-0bb94d7048f9"
      },
      "execution_count": 8,
      "outputs": [
        {
          "output_type": "stream",
          "name": "stdout",
          "text": [
            "3/4\n"
          ]
        }
      ]
    },
    {
      "cell_type": "code",
      "source": [
        "# Demonstrate operator overloading by creating a class Vector and overriding the add method to add two vectors.\n",
        "class Vector:\n",
        "    def __init__(self, x, y):\n",
        "        self.x = x\n",
        "        self.y = y\n",
        "\n",
        "    def __str__(self):\n",
        "        return f\"Vector({self.x}, {self.y})\"\n",
        "\n",
        "    def __add__(self, other):\n",
        "        if isinstance(other, Vector):\n",
        "            return Vector(self.x + other.x, self.y + other.y)\n",
        "        else:\n",
        "            raise TypeError(\"Unsupported operand type for +\")\n",
        "\n",
        "# Example usage:\n",
        "v1 = Vector(2, 3)\n",
        "v2 = Vector(4, 5)\n",
        "\n",
        "v3 = v1 + v2\n",
        "print(v3)"
      ],
      "metadata": {
        "colab": {
          "base_uri": "https://localhost:8080/"
        },
        "id": "asehfDZKPzZo",
        "outputId": "191bc4f2-9f9d-4750-98bb-3e8fe6584394"
      },
      "execution_count": 9,
      "outputs": [
        {
          "output_type": "stream",
          "name": "stdout",
          "text": [
            "Vector(6, 8)\n"
          ]
        }
      ]
    },
    {
      "cell_type": "code",
      "source": [
        "# Create a class Person with attributes name and age. Add a method greet() that prints \"Hello, my name is{name} and I am {age} years old.\"\n",
        "class Person:\n",
        "    def __init__(self, name, age):\n",
        "        self.name = name\n",
        "        self.age = age\n",
        "\n",
        "    def greet(self):\n",
        "        print(f\"Hello, my name is {self.name} and I am {self.age} years old.\")\n",
        "\n",
        "# Example usage:\n",
        "person1 = Person(\"Deepak\", 30)\n",
        "person1.greet()"
      ],
      "metadata": {
        "id": "BJCsctYCP-PJ"
      },
      "execution_count": null,
      "outputs": []
    },
    {
      "cell_type": "code",
      "source": [
        "# . Implement a class Student with attributes name and grades. Create a method average_grade() to compute the average of the grades.\n",
        "\n",
        "class Student:\n",
        "    def __init__(self, name, grades):\n",
        "        self.name = name\n",
        "        self.grades = grades\n",
        "\n",
        "    def average_grade(self):\n",
        "        if not self.grades:\n",
        "            return 0\n",
        "        return sum(self.grades) / len(self.grades)\n",
        "\n",
        "# Example usage:\n",
        "student1 = Student(\"Deepak\", [85, 90, 78, 92])\n",
        "print(f\"{student1.name}'s average grade is: {student1.average_grade()}\")\n",
        "\n",
        "student2 = Student(\"Pankaj\", [])\n",
        "print(f\"{student2.name}'s average grade is: {student2.average_grade()}\")"
      ],
      "metadata": {
        "colab": {
          "base_uri": "https://localhost:8080/"
        },
        "id": "9ErVxUWEQVEW",
        "outputId": "9c53112b-c13f-4d0c-d720-2cd171a9f95e"
      },
      "execution_count": 11,
      "outputs": [
        {
          "output_type": "stream",
          "name": "stdout",
          "text": [
            "Deepak's average grade is: 86.25\n",
            "Alok's average grade is: 0\n"
          ]
        }
      ]
    },
    {
      "cell_type": "code",
      "source": [
        "#  Create a class Rectangle with methods set_dimensions() to set the dimensions and area() to calculate the area.\n",
        "\n",
        "class Rectangle:\n",
        "    def __init__(self):\n",
        "        self.length = 0\n",
        "        self.width = 0\n",
        "\n",
        "    def set_dimensions(self, length, width):\n",
        "        self.length = length\n",
        "        self.width = width\n",
        "\n",
        "    def area(self):\n",
        "        return self.length * self.width\n",
        "\n",
        "# Example usage:\n",
        "rectangle = Rectangle()\n",
        "rectangle.set_dimensions(25, 30)\n",
        "print(f\"The area of the rectangle is: {rectangle.area()}\")\n"
      ],
      "metadata": {
        "colab": {
          "base_uri": "https://localhost:8080/"
        },
        "id": "P4NS4qIfQ05Q",
        "outputId": "ac5b38b0-6200-428b-ee52-517c24d304d4"
      },
      "execution_count": 13,
      "outputs": [
        {
          "output_type": "stream",
          "name": "stdout",
          "text": [
            "The area of the rectangle is: 750\n"
          ]
        }
      ]
    },
    {
      "cell_type": "code",
      "source": [
        "#Create a class Employee with a method calculate_salary() that computes the salary based on hours worked and hourly rate. Create a derived class Manager that adds a bonus to the salary\n",
        "\n",
        "\n",
        "class Employee:\n",
        "    def __init__(self, name, hourly_rate):\n",
        "        \"\"\"\n",
        "        Initializes an Employee object.\n",
        "\n",
        "        Args:\n",
        "            name (str): The name of the employee.\n",
        "            hourly_rate (float): The hourly rate of the employee.\n",
        "        \"\"\"\n",
        "        self.name = name\n",
        "        self.hourly_rate = hourly_rate\n",
        "\n",
        "    def calculate_salary(self, hours_worked):\n",
        "        \"\"\"\n",
        "        Calculates the salary of the employee based on hours worked and hourly rate.\n",
        "\n",
        "        Args:\n",
        "            hours_worked (float): The number of hours worked by the employee.\n",
        "\n",
        "        Returns:\n",
        "            float: The calculated salary.\n",
        "        \"\"\"\n",
        "        return hours_worked * self.hourly_rate\n",
        "\n",
        "class Manager(Employee):\n",
        "    def __init__(self, name, hourly_rate, bonus):\n",
        "        \"\"\"\n",
        "        Initializes a Manager object, inheriting from Employee.\n",
        "\n",
        "        Args:\n",
        "            name (str): The name of the manager.\n",
        "            hourly_rate (float): The hourly rate of the manager.\n",
        "            bonus (float): The bonus amount for the manager.\n",
        "        \"\"\"\n",
        "        super().__init__(name, hourly_rate)\n",
        "        self.bonus = bonus\n",
        "\n",
        "    def calculate_salary(self, hours_worked):\n",
        "        \"\"\"\n",
        "        Calculates the salary of the manager, including a bonus.\n",
        "\n",
        "        Args:\n",
        "            hours_worked (float): The number of hours worked by the manager.\n",
        "\n",
        "        Returns:\n",
        "            float: The calculated salary including the bonus.\n",
        "        \"\"\"\n",
        "        base_salary = super().calculate_salary(hours_worked)\n",
        "        return base_salary + self.bonus\n",
        "\n",
        "# Example Usage\n",
        "employee1 = Employee(\"Pankaj\", 20.0)\n",
        "manager1 = Manager(\"Mallick\", 25.0, 500.0)\n",
        "\n",
        "print(f\"{employee1.name}'s salary: ${employee1.calculate_salary(40)}\")\n",
        "print(f\"{manager1.name}'s salary: ${manager1.calculate_salary(40)}\")"
      ],
      "metadata": {
        "colab": {
          "base_uri": "https://localhost:8080/"
        },
        "id": "HTZ_75WSVvQ8",
        "outputId": "05f7ee72-40a0-4b2c-b3dc-501f2425453f"
      },
      "execution_count": 15,
      "outputs": [
        {
          "output_type": "stream",
          "name": "stdout",
          "text": [
            "Pankaj's salary: $800.0\n",
            "Mallick's salary: $1500.0\n"
          ]
        }
      ]
    },
    {
      "cell_type": "code",
      "source": [
        "# Create a class Product with attributes name, price, and quantity. Implement a method total_price() that calculates the total price of the product.\n",
        "\n",
        "class Product:\n",
        "    def __init__(self, name, price, quantity):\n",
        "        self.name = name\n",
        "        self.price = price\n",
        "        self.quantity = quantity\n",
        "\n",
        "    def total_price(self):\n",
        "        return self.price * self.quantity\n",
        "\n",
        "# Example usage:\n",
        "product1 = Product(\"Laptop\", 1200, 2)\n",
        "print(f\"The total price of {product1.name} is: ${product1.total_price()}\")\n"
      ],
      "metadata": {
        "colab": {
          "base_uri": "https://localhost:8080/"
        },
        "id": "wjmYnfmvWUeO",
        "outputId": "67a47a8b-ea22-4a84-ac41-5dce34e70d2c"
      },
      "execution_count": 16,
      "outputs": [
        {
          "output_type": "stream",
          "name": "stdout",
          "text": [
            "The total price of Laptop is: $2400\n"
          ]
        }
      ]
    },
    {
      "cell_type": "code",
      "source": [
        "# Create a class Animal with an abstract method sound(). Create two derived classes Cow and Sheep that implement the sound() method.\n",
        "\n",
        "rom abc import ABC, abstractmethod\n",
        "\n",
        "class Animal(ABC):\n",
        "    @abstractmethod\n",
        "    def sound(self):\n",
        "        pass\n",
        "\n",
        "class Horse(Animal):\n",
        "    def sound(self):\n",
        "        return \"Hinnn\"\n",
        "\n",
        "class Sheep(Animal):\n",
        "    def sound(self):\n",
        "        return \"Baa\"\n",
        "\n",
        "# Example usage:\n",
        "Horse = Horse()\n",
        "sheep = Sheep()\n",
        "\n",
        "print(f\"Horse says: {Horse.sound()}\")\n",
        "print(f\"Sheep says: {sheep.sound()}\")"
      ],
      "metadata": {
        "id": "asLuOP4OW4-1"
      },
      "execution_count": null,
      "outputs": []
    },
    {
      "cell_type": "code",
      "source": [
        "# Create a class Book with attributes title, author, and year_published. Add a method get_book_info() that returns a formatted string with the book's details.\n",
        "\n",
        "class Book:\n",
        "    def __init__(self, title, author, year_published):\n",
        "        self.title = title\n",
        "        self.author = author\n",
        "        self.year_published = year_published\n",
        "\n",
        "    def get_book_info(self):\n",
        "        return f\"Title: {self.title}, Author: {self.author}, Year Published: {self.year_published}\"\n",
        "\n",
        "# Example usage:\n",
        "book1 = Book(\"The Monk sold his car\", \"Robin Sharma\", 1995)\n",
        "print(book1.get_book_info())"
      ],
      "metadata": {
        "colab": {
          "base_uri": "https://localhost:8080/"
        },
        "id": "kmhm6r2tXKSp",
        "outputId": "05e60dfd-8fc7-4c7a-f049-eef0a6509fcd"
      },
      "execution_count": 17,
      "outputs": [
        {
          "output_type": "stream",
          "name": "stdout",
          "text": [
            "Title: The Monk sold his car, Author: Robin Sharma, Year Published: 1995\n"
          ]
        }
      ]
    },
    {
      "cell_type": "code",
      "source": [
        "# Create a class House with attributes address and price. Create a derived class Mansion that adds an attribute number_of_rooms.\n",
        "\n",
        "class House:\n",
        "    def __init__(self, address, price):\n",
        "        self.address = address\n",
        "        self.price = price\n",
        "\n",
        "class Mansion(House):\n",
        "    def __init__(self, address, price, number_of_rooms):\n",
        "        super().__init__(address, price)  # Call the parent class constructor\n",
        "        self.number_of_rooms = number_of_rooms\n",
        "\n",
        "# Example usage:\n",
        "house = House(\"123 Main St\", 250000)\n",
        "mansion = Mansion(\"456 Marathalli\", 1500000, 20)\n",
        "\n",
        "print(f\"House Address: {house.address}, Price: ${house.price}\")\n",
        "print(f\"Mansion Address: {mansion.address}, Price: ${mansion.price}, Rooms: {mansion.number_of_rooms}\")"
      ],
      "metadata": {
        "colab": {
          "base_uri": "https://localhost:8080/"
        },
        "id": "AYkP2zChXjqi",
        "outputId": "6ebfa1f7-d532-4d6f-9dde-3a7466424651"
      },
      "execution_count": 18,
      "outputs": [
        {
          "output_type": "stream",
          "name": "stdout",
          "text": [
            "House Address: 123 Main St, Price: $250000\n",
            "Mansion Address: 456 Marathalli, Price: $1500000, Rooms: 20\n"
          ]
        }
      ]
    }
  ]
}